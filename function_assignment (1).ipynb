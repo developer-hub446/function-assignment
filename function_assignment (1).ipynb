{
  "nbformat": 4,
  "nbformat_minor": 0,
  "metadata": {
    "colab": {
      "provenance": []
    },
    "kernelspec": {
      "name": "python3",
      "display_name": "Python 3"
    },
    "language_info": {
      "name": "python"
    }
  },
  "cells": [
    {
      "cell_type": "markdown",
      "source": [],
      "metadata": {
        "id": "5RAaETPA8BDm"
      }
    },
    {
      "cell_type": "markdown",
      "source": [
        "             FUNCTIONS  THEORY QUESTION\n",
        "\n",
        " 1. What is the difference between a function and a method in Python?\n",
        "\n",
        " ->Function:\n",
        "A function is a standalone block of code that can be defined and called independently of any class or object.\n",
        "\n",
        "*Functions are generally used for general-purpose tasks and operate on data passed to them as arguments.\n",
        "\n",
        "*They do not implicitly receive a reference to an object.\n",
        "\n",
        "*EXAMPLE OF FUNCTION :\n",
        "def sum(a,b) :\n",
        "    sum = a + b\n",
        "    print('sum is =',sum)\n",
        "\n",
        "\n",
        "Method:\n",
        "A method is a function that is defined within a class and is associated with an object (an instance of that class).\n",
        "\n",
        "*Methods are used to define the behavior of objects and can access and modify the object's data (attributes).\n",
        "\n",
        "*When a method is called on an object, it implicitly receives a reference to that object (conventionally named self) as its first argument, allowing it to interact with the object's state.\n",
        "\n",
        "EXAMPLE OF METHOD -\n",
        "\n",
        "sum(1,2)\n",
        "\n",
        " 2. Explain the concept of function arguments and parameters in Python.\n",
        "\n",
        "-> Parameters:\n",
        "Parameters are the variable names listed inside the parentheses in a function's def statement.\n",
        "\n",
        "*They act as placeholders or definitions of the types of values a function expects to receive when it is called.\n",
        "\n",
        "*Parameters define the \"interface\" of the function, specifying what inputs it can accept.\n",
        "\n",
        "*Arguments:\n",
        "\n",
        "*Arguments are the actual values or expressions that are passed to a function when it is called.\n",
        "\n",
        "*These values are assigned to the corresponding parameters within the function's scope during execution.\n",
        "\n",
        "*Arguments provide the concrete data that the function will operate on.\n",
        "\n",
        "Example -\n",
        "def greet(name, greeting=\"Hello\"): # 'name' and 'greeting' are parameters\n",
        "    print(f\"{greeting}, {name}!\")\n",
        "\n",
        "# Calling the function with arguments:\n",
        "greet(\"Alice\") # \"Alice\" is an argument for 'name'\n",
        "greet(\"Bob\", \"Good morning\") # \"Bob\" is an argument for 'name', \"Good morning\" is an argument for 'greeting'\n",
        "\n",
        "\n",
        "3. What are the different ways to define and call a function in Python?\n",
        "\n",
        "-> Functions in Python are defined using the def keyword. The basic syntax for defining a function is as follows:\n",
        "Python\n",
        "\n",
        "def function_name(parameter1, parameter2, ...):\n",
        "    \"\"\"Docstring: Optional documentation for the function.\"\"\"\n",
        "    # Code block to be executed when the function is called\n",
        "    # ...\n",
        "    return value  # Optional: return a value from the function\n",
        "\n",
        "*def keyword: Initiates the function definition.\n",
        "\n",
        "*function_name: A unique identifier for the function, following Python's naming conventions.\n",
        "\n",
        "*() (parentheses): Enclose any parameters the function accepts. If no parameters are needed, empty parentheses are still required.\n",
        "\n",
        "*: (colon): Marks the end of the function header.\n",
        "\n",
        "*Indented code block: Contains the statements that make up the function's logic. This block must be consistently indented.\n",
        "\n",
        "*return statement (optional): Used to send a value back to the caller. If omitted or used without an argument, the function implicitly returns None.\n",
        "Calling a Function in Python\n",
        "To execute the code within a defined function, you \"call\" it. This is done by writing the function's name followed by parentheses, enclosing any necessary arguments.\n",
        "Python\n",
        "*function_name(argument1, argument2, ...)\n",
        "function_name: The name of the function you wish to call.\n",
        "\n",
        "*() (parentheses): Enclose the arguments (actual values) that correspond to the parameters defined in the function. The number and type of arguments should match the function's parameter signature.\n",
        "def greet(name):\n",
        "    \"\"\"This function greets the given name.\"\"\"\n",
        "    print(f\"Hello, {name}!\")\n",
        "\n",
        "# Calling the function\n",
        "greet(\"Alice\")\n",
        "\n",
        "4. What is the purpose of the `return` statement in a Python function?\n",
        "\n",
        "->The return statement in a Python function serves two primary purposes:\n",
        "To exit the function:\n",
        "\n",
        "* When a return statement is encountered within a function, the execution of that function immediately terminates. Control is then passed back to the point in the code where the function was called.\n",
        "\n",
        "* To send a value back to the caller:\n",
        "The return statement can optionally be followed by a value or an expression. This value is then \"returned\" to the calling code, effectively becoming the result of the function call. This returned value can be assigned to a variable, used in an expression, or passed as an argument to another function. If no value is specified after return, or if the return statement is omitted entirely, the function implicitly returns None.\n",
        "\n",
        "Example -\n",
        "def add_numbers(a, b):\n",
        "    sum_result = a + b\n",
        "    return sum_result # Returns the calculated sum\n",
        "\n",
        "result = add_numbers(5, 3)\n",
        "print(result) # Output: 8\n",
        "\n",
        "5. What are iterators in Python and how do they differ from iterables?\n",
        "\n",
        "-> In Python, iterators and iterables are fundamental concepts for working with sequences of data.\n",
        "\n",
        "* An iterable is an object that can be iterated over, meaning it can return its members one at a time. Examples of iterables include lists, tuples, strings, and dictionaries. An object is considered iterable if it implements either the __iter__() method, which returns an iterator, or the __getitem__() method, which allows access to elements by index.\n",
        "\n",
        "*An iterator is an object that represents a stream of data. It is responsible for producing the next value in a sequence when requested and maintaining the internal state of the iteration. An iterator must implement two methods:\n",
        "__iter__(): This method returns the iterator object itself.\n",
        "__next__(): This method returns the next item from the iterator. If there are no more items, it raises a StopIteration exception.\n",
        "\n",
        "my_list = [10, 20, 30, 40] # This is an iterable\n",
        "\n",
        "my_iterator = iter(my_list) # This is an iterator\n",
        "\n",
        "print(next(my_iterator)) # Output: 10\n",
        "print(next(my_iterator)) # Output: 20\n",
        "print(next(my_iterator)) # Output: 30\n",
        "print(next(my_iterator)) # Output: 40\n",
        "# this ia an iterable\n",
        "\n",
        "6. Explain the concept of generators in Python and how they are defined.\n",
        "\n",
        "-> Generators in Python are a special type of iterable that produce values lazily, one at a time, rather than storing all values in memory simultaneously. This makes them highly memory-efficient, especially when dealing with large datasets or potentially infinite sequences.\n",
        "\n",
        "* How Generators are Defined:\n",
        "Generators are defined in Python primarily through two mechanisms:\n",
        "\n",
        "* Generator Functions: These are functions that contain one or more yield statements. When a generator function is called, it does not execute the function body immediately; instead, it returns a generator object. Each time the next() method is called on this generator object (either explicitly or implicitly during iteration, e.g., in a for loop), the function's execution resumes from where it last yielded a value. It continues until it encounters another yield statement, at which point it pauses and returns the yielded value. When the function completes or encounters a return statement (without a value), a StopIteration exception is raised, signaling the end of the sequence.\n",
        "Python\n",
        "\n",
        "    def count_up_to(n):\n",
        "        i = 0\n",
        "        while i < n:\n",
        "            yield i  # Yields a value and pauses execution\n",
        "            i += 1\n",
        "\n",
        "    # Using the generator function\n",
        "    my_generator = count_up_to(5)\n",
        "    for num in my_generator:\n",
        "        print(num)\n",
        "\n",
        "\n",
        "7. What are the advantages of using generators over regular functions?\n",
        "\n",
        "-> The advantages of using generators over regular functions include:\n",
        "\n",
        "* Memory Efficiency:\n",
        "Generators produce values one at a time using the yield keyword, rather than computing and storing an entire sequence in memory like a regular function might when returning a list. This makes them highly efficient for handling large datasets or infinite sequences, as they only store the current state of iteration.\n",
        "\n",
        "* Lazy Evaluation:\n",
        "Values are generated on demand, only when requested by the caller. This \"lazy\" approach saves processing time and CPU cycles, as computations are performed only when necessary, avoiding the upfront cost of generating all values at once.\n",
        "\n",
        "* Handling Infinite Sequences:\n",
        "Generators can naturally represent and iterate over infinite sequences, such as the Fibonacci sequence, without memory exhaustion, as they only generate the next element when needed.\n",
        "\n",
        " 8. What is a lambda function in Python and when is it typically used?\n",
        "\n",
        "-> A lambda function in Python is a small, anonymous function defined using the lambda keyword. Unlike regular functions defined with def, lambda functions do not have a name and are restricted to a single expression. They can take any number of arguments but can only have one expression, which is implicitly returned.\n",
        "\n",
        "Example -\n",
        "\n",
        "lambda arguments: expression\n",
        "\n",
        "Typical Use Cases:\n",
        "\n",
        "* Lambda functions are typically used in situations where a small, one-time function is required, often as an argument to higher-order functions.\n",
        "\n",
        "* With map(), filter(), and sorted(): Lambda functions are frequently used with these built-in functions to apply a specific operation or filtering logic to iterables without defining a separate, full function.\n",
        "\n",
        "\n",
        "9. Explain the purpose and usage of the `map()` function in Python.\n",
        "\n",
        "-> The map() function in Python is a built-in higher-order function used to apply a specified function to each item in an iterable (such as a list, tuple, or set) and return an iterator containing the results. Its primary purpose is to efficiently transform or process elements within a collection without the need for explicit loops, promoting a more functional programming style.\n",
        "\n",
        "Purpose:\n",
        "\n",
        "* Transformation:\n",
        "map() is designed to transform each element of an iterable by applying a given function to it. This is useful for operations like converting data types, performing mathematical calculations, or modifying string formats across an entire collection.\n",
        "\n",
        "* Efficiency:\n",
        "For large datasets, map() can be more efficient than explicit for loops, particularly when combined with other functional tools, as it returns an iterator, which can be memory-efficient.\n",
        "\n",
        "Usage:\n",
        "The syntax for map() is straightforward:\n",
        "Python\n",
        "\n",
        "map(function, iterable, ...)\n",
        "function:\n",
        "This is the function that will be applied to each item of the iterable(s). It can be a named function or an anonymous lambda function.\n",
        "iterable:\n",
        "This is the sequence (list, tuple, set, etc.) whose elements will be passed to the function. Multiple iterables can be provided if the function accepts multiple arguments.\n",
        "\n",
        "\n",
        " 10. What is the difference between `map()`, `reduce()`, and `filter()` functions in Python?\n",
        "\n",
        "-> Key Differences :\n",
        "\n",
        "* Output Type:\n",
        "map() and filter() return iterators (which can be converted to lists, tuples, etc.), while reduce() returns a single value.\n",
        "\n",
        "* Transformation vs. Selection vs. Aggregation:\n",
        "map() transforms elements, filter() selects elements based on a condition, and reduce() aggregates elements into a single result.\n",
        "\n",
        "* Function Signature:\n",
        "The function passed to map() and filter() typically takes one argument, while the function passed to reduce() takes two arguments (accumulator and current item).\n",
        "\n",
        "\n",
        "#11. Using pen & Paper write the internal mechanism for sum operation using  reduce function on this given list:[47,11,42,13]\n",
        "\n",
        "\n",
        "\n"
      ],
      "metadata": {
        "id": "UuqrR4L68C9c"
      }
    },
    {
      "cell_type": "code",
      "source": [
        "##1 Write a Python function that takes a list of numbers as input and returns the sum of all even numbers in the list.\n",
        "\n",
        "def sum_of_even_numbers(numbers):\n",
        "    total = 0\n",
        "    for num in numbers:\n",
        "        if num % 2 == 0:\n",
        "            total += num\n",
        "    return total\n",
        "nums = [1,2,3,4,5,6,7,8,9,10]\n",
        "print(sum_of_even_numbers(nums))"
      ],
      "metadata": {
        "colab": {
          "base_uri": "https://localhost:8080/"
        },
        "id": "4m0nGZLnE9kq",
        "outputId": "e05a2838-e699-420b-c54e-d05cb3ff358c"
      },
      "execution_count": 1,
      "outputs": [
        {
          "output_type": "stream",
          "name": "stdout",
          "text": [
            "30\n"
          ]
        }
      ]
    },
    {
      "cell_type": "code",
      "execution_count": 2,
      "metadata": {
        "colab": {
          "base_uri": "https://localhost:8080/"
        },
        "id": "Ll8n7EZj754w",
        "outputId": "7f8dde49-be9b-4095-e996-f171dfa2bb14"
      },
      "outputs": [
        {
          "output_type": "stream",
          "name": "stdout",
          "text": [
            " olleh\n"
          ]
        }
      ],
      "source": [
        "#2. Create a Python function that accepts a string and returns the reverse of that string\n",
        "\n",
        "def rev_string(str) :\n",
        "  print(str[:  : -1])\n",
        "\n",
        "\n",
        "rev_string(('hello '))"
      ]
    },
    {
      "cell_type": "code",
      "source": [
        "#  3. Implement a Python function that takes a list of integers and returns a new list containing the squares of\n",
        "# each number.\n",
        "\n",
        "def new_list(nums) :\n",
        "  sqr = []\n",
        "  for i in nums :\n",
        "      sqr.append(i * i)\n",
        "\n",
        "  return sqr\n",
        "\n",
        "print(new_list([1,2,3,4,5]))"
      ],
      "metadata": {
        "colab": {
          "base_uri": "https://localhost:8080/"
        },
        "id": "KHaVrcOYGvnS",
        "outputId": "d0036717-5054-4db1-a7a9-1f311fac85ef"
      },
      "execution_count": 3,
      "outputs": [
        {
          "output_type": "stream",
          "name": "stdout",
          "text": [
            "[1, 4, 9, 16, 25]\n"
          ]
        }
      ]
    },
    {
      "cell_type": "code",
      "source": [
        "#4.Write a Python function that checks if a given number is prime or not from 1 to 200.\n",
        "def is_prime(num):\n",
        "    if num <= 1:\n",
        "        return False\n",
        "    for i in range(2, num):\n",
        "        if num % i == 0:\n",
        "            return False\n",
        "    return True\n",
        "for n in range(1, 201):\n",
        "    if is_prime(n):\n",
        "        print(n, \"is Prime\")\n",
        "    else:\n",
        "        print(n, \"is NOT Prime\")"
      ],
      "metadata": {
        "colab": {
          "base_uri": "https://localhost:8080/"
        },
        "id": "-JVyMvA3G8nC",
        "outputId": "18be8b17-95cb-4525-c130-5129b8eb1510"
      },
      "execution_count": 4,
      "outputs": [
        {
          "output_type": "stream",
          "name": "stdout",
          "text": [
            "1 is NOT Prime\n",
            "2 is Prime\n",
            "3 is Prime\n",
            "4 is NOT Prime\n",
            "5 is Prime\n",
            "6 is NOT Prime\n",
            "7 is Prime\n",
            "8 is NOT Prime\n",
            "9 is NOT Prime\n",
            "10 is NOT Prime\n",
            "11 is Prime\n",
            "12 is NOT Prime\n",
            "13 is Prime\n",
            "14 is NOT Prime\n",
            "15 is NOT Prime\n",
            "16 is NOT Prime\n",
            "17 is Prime\n",
            "18 is NOT Prime\n",
            "19 is Prime\n",
            "20 is NOT Prime\n",
            "21 is NOT Prime\n",
            "22 is NOT Prime\n",
            "23 is Prime\n",
            "24 is NOT Prime\n",
            "25 is NOT Prime\n",
            "26 is NOT Prime\n",
            "27 is NOT Prime\n",
            "28 is NOT Prime\n",
            "29 is Prime\n",
            "30 is NOT Prime\n",
            "31 is Prime\n",
            "32 is NOT Prime\n",
            "33 is NOT Prime\n",
            "34 is NOT Prime\n",
            "35 is NOT Prime\n",
            "36 is NOT Prime\n",
            "37 is Prime\n",
            "38 is NOT Prime\n",
            "39 is NOT Prime\n",
            "40 is NOT Prime\n",
            "41 is Prime\n",
            "42 is NOT Prime\n",
            "43 is Prime\n",
            "44 is NOT Prime\n",
            "45 is NOT Prime\n",
            "46 is NOT Prime\n",
            "47 is Prime\n",
            "48 is NOT Prime\n",
            "49 is NOT Prime\n",
            "50 is NOT Prime\n",
            "51 is NOT Prime\n",
            "52 is NOT Prime\n",
            "53 is Prime\n",
            "54 is NOT Prime\n",
            "55 is NOT Prime\n",
            "56 is NOT Prime\n",
            "57 is NOT Prime\n",
            "58 is NOT Prime\n",
            "59 is Prime\n",
            "60 is NOT Prime\n",
            "61 is Prime\n",
            "62 is NOT Prime\n",
            "63 is NOT Prime\n",
            "64 is NOT Prime\n",
            "65 is NOT Prime\n",
            "66 is NOT Prime\n",
            "67 is Prime\n",
            "68 is NOT Prime\n",
            "69 is NOT Prime\n",
            "70 is NOT Prime\n",
            "71 is Prime\n",
            "72 is NOT Prime\n",
            "73 is Prime\n",
            "74 is NOT Prime\n",
            "75 is NOT Prime\n",
            "76 is NOT Prime\n",
            "77 is NOT Prime\n",
            "78 is NOT Prime\n",
            "79 is Prime\n",
            "80 is NOT Prime\n",
            "81 is NOT Prime\n",
            "82 is NOT Prime\n",
            "83 is Prime\n",
            "84 is NOT Prime\n",
            "85 is NOT Prime\n",
            "86 is NOT Prime\n",
            "87 is NOT Prime\n",
            "88 is NOT Prime\n",
            "89 is Prime\n",
            "90 is NOT Prime\n",
            "91 is NOT Prime\n",
            "92 is NOT Prime\n",
            "93 is NOT Prime\n",
            "94 is NOT Prime\n",
            "95 is NOT Prime\n",
            "96 is NOT Prime\n",
            "97 is Prime\n",
            "98 is NOT Prime\n",
            "99 is NOT Prime\n",
            "100 is NOT Prime\n",
            "101 is Prime\n",
            "102 is NOT Prime\n",
            "103 is Prime\n",
            "104 is NOT Prime\n",
            "105 is NOT Prime\n",
            "106 is NOT Prime\n",
            "107 is Prime\n",
            "108 is NOT Prime\n",
            "109 is Prime\n",
            "110 is NOT Prime\n",
            "111 is NOT Prime\n",
            "112 is NOT Prime\n",
            "113 is Prime\n",
            "114 is NOT Prime\n",
            "115 is NOT Prime\n",
            "116 is NOT Prime\n",
            "117 is NOT Prime\n",
            "118 is NOT Prime\n",
            "119 is NOT Prime\n",
            "120 is NOT Prime\n",
            "121 is NOT Prime\n",
            "122 is NOT Prime\n",
            "123 is NOT Prime\n",
            "124 is NOT Prime\n",
            "125 is NOT Prime\n",
            "126 is NOT Prime\n",
            "127 is Prime\n",
            "128 is NOT Prime\n",
            "129 is NOT Prime\n",
            "130 is NOT Prime\n",
            "131 is Prime\n",
            "132 is NOT Prime\n",
            "133 is NOT Prime\n",
            "134 is NOT Prime\n",
            "135 is NOT Prime\n",
            "136 is NOT Prime\n",
            "137 is Prime\n",
            "138 is NOT Prime\n",
            "139 is Prime\n",
            "140 is NOT Prime\n",
            "141 is NOT Prime\n",
            "142 is NOT Prime\n",
            "143 is NOT Prime\n",
            "144 is NOT Prime\n",
            "145 is NOT Prime\n",
            "146 is NOT Prime\n",
            "147 is NOT Prime\n",
            "148 is NOT Prime\n",
            "149 is Prime\n",
            "150 is NOT Prime\n",
            "151 is Prime\n",
            "152 is NOT Prime\n",
            "153 is NOT Prime\n",
            "154 is NOT Prime\n",
            "155 is NOT Prime\n",
            "156 is NOT Prime\n",
            "157 is Prime\n",
            "158 is NOT Prime\n",
            "159 is NOT Prime\n",
            "160 is NOT Prime\n",
            "161 is NOT Prime\n",
            "162 is NOT Prime\n",
            "163 is Prime\n",
            "164 is NOT Prime\n",
            "165 is NOT Prime\n",
            "166 is NOT Prime\n",
            "167 is Prime\n",
            "168 is NOT Prime\n",
            "169 is NOT Prime\n",
            "170 is NOT Prime\n",
            "171 is NOT Prime\n",
            "172 is NOT Prime\n",
            "173 is Prime\n",
            "174 is NOT Prime\n",
            "175 is NOT Prime\n",
            "176 is NOT Prime\n",
            "177 is NOT Prime\n",
            "178 is NOT Prime\n",
            "179 is Prime\n",
            "180 is NOT Prime\n",
            "181 is Prime\n",
            "182 is NOT Prime\n",
            "183 is NOT Prime\n",
            "184 is NOT Prime\n",
            "185 is NOT Prime\n",
            "186 is NOT Prime\n",
            "187 is NOT Prime\n",
            "188 is NOT Prime\n",
            "189 is NOT Prime\n",
            "190 is NOT Prime\n",
            "191 is Prime\n",
            "192 is NOT Prime\n",
            "193 is Prime\n",
            "194 is NOT Prime\n",
            "195 is NOT Prime\n",
            "196 is NOT Prime\n",
            "197 is Prime\n",
            "198 is NOT Prime\n",
            "199 is Prime\n",
            "200 is NOT Prime\n"
          ]
        }
      ]
    },
    {
      "cell_type": "code",
      "source": [
        "#5.Create an iterator class in Python that generates the Fibonacci sequence up to a specified number of terms.\n",
        "class Fibonacci:\n",
        "    def __init__(self, n):\n",
        "        self.n = n\n",
        "        self.a, self.b = 0,1\n",
        "        self.count = 0\n",
        "\n",
        "    def __iter__(self):\n",
        "        return self\n",
        "\n",
        "    def __next__(self):\n",
        "        if self.count < self.n:\n",
        "            if self.count == 0:\n",
        "                self.count += 1\n",
        "                return 0\n",
        "            elif self.count == 1:\n",
        "                self.count += 1\n",
        "                return 1\n",
        "            else:\n",
        "                fib = self.a + self.b\n",
        "                self.a, self.b = self.b, fib\n",
        "                self.count += 1\n",
        "                return fib\n",
        "        else:\n",
        "            raise StopIteration\n",
        "    for num in Fibonacci(6):\n",
        "        print(num)"
      ],
      "metadata": {
        "id": "uIrguepOHJtu"
      },
      "execution_count": null,
      "outputs": []
    },
    {
      "cell_type": "code",
      "source": [
        "#6.Write a generator function in Python that yields the powers of 2 up to a given exponent.\n",
        "def powers_of_two(exponent):\n",
        "    for i in range(exponent +1):\n",
        "        yield 2 **i\n",
        "for power in powers_of_two(5):\n",
        "             print(power)"
      ],
      "metadata": {
        "colab": {
          "base_uri": "https://localhost:8080/"
        },
        "id": "yao8NtcAHagK",
        "outputId": "a0dc1203-3951-4085-8591-27a28f00c03b"
      },
      "execution_count": 6,
      "outputs": [
        {
          "output_type": "stream",
          "name": "stdout",
          "text": [
            "1\n",
            "2\n",
            "4\n",
            "8\n",
            "16\n",
            "32\n"
          ]
        }
      ]
    },
    {
      "cell_type": "code",
      "source": [
        "#7.Implement a generator function that reads a file line by line and yields each line as a string.\n",
        "def read_file_line_by_line(filename):\n",
        "    with open(filename, \"r\") as file:\n",
        "        for line in file:\n",
        "            yield line.strip()   # yield each line (remove \\n at the end)\n",
        "\n",
        "# Example usage\n",
        "for line in read_file_line_by_line(\"sample.txt\"):\n",
        "    print(line)\n"
      ],
      "metadata": {
        "id": "TXAiBn2CHoc-"
      },
      "execution_count": null,
      "outputs": []
    },
    {
      "cell_type": "code",
      "source": [
        "#8.Use a lambda function in Python to sort a list of tuples based on the second element of each tuple.\n",
        "data = [(1,2),(4,1),(9,10),(7,6)]\n",
        "\n",
        "sorted_data = sorted(data, key=lambda x:[1])\n",
        "\n",
        "print(sorted_data)"
      ],
      "metadata": {
        "colab": {
          "base_uri": "https://localhost:8080/"
        },
        "id": "epVIi0ClH2bC",
        "outputId": "742caf31-d0d0-4492-ef06-00f49ef527f1"
      },
      "execution_count": 7,
      "outputs": [
        {
          "output_type": "stream",
          "name": "stdout",
          "text": [
            "[(1, 2), (4, 1), (9, 10), (7, 6)]\n"
          ]
        }
      ]
    },
    {
      "cell_type": "code",
      "source": [
        "#9.Write a Python program that uses `map()` to convert a list of temperatures from Celsius to Fahrenheit.celsius = [0, 20, 30, 40, 100]\n",
        "\n",
        "celsius = [0,20,30,40,100]\n",
        "fahrenheit = list(map(lambda c: (c * 9/5) + 32, celsius))\n",
        "\n",
        "print(\"Celsius:   \", celsius)\n",
        "print(\"Fahrenheit:\", fahrenheit)\n"
      ],
      "metadata": {
        "colab": {
          "base_uri": "https://localhost:8080/"
        },
        "id": "ua8Yq-cJH_Fe",
        "outputId": "85dcbffb-ecc9-4232-8bd5-a10a37740247"
      },
      "execution_count": 8,
      "outputs": [
        {
          "output_type": "stream",
          "name": "stdout",
          "text": [
            "Celsius:    [0, 20, 30, 40, 100]\n",
            "Fahrenheit: [32.0, 68.0, 86.0, 104.0, 212.0]\n"
          ]
        }
      ]
    },
    {
      "cell_type": "code",
      "source": [
        "#10.Create a Python program that uses `filter()` to remove all the vowels from a given strin.\n",
        "text = \"alphabetinthe\"\n",
        "result = \"\".join(filter(lambda ch: ch.lower() not in \"aeiou\", text))\n",
        "print(result)"
      ],
      "metadata": {
        "colab": {
          "base_uri": "https://localhost:8080/"
        },
        "id": "FZJTcpNnIF_i",
        "outputId": "eb6c07f9-e35a-4f09-dd01-6e6dc06a3fbf"
      },
      "execution_count": 10,
      "outputs": [
        {
          "output_type": "stream",
          "name": "stdout",
          "text": [
            "lphbtnth\n"
          ]
        }
      ]
    },
    {
      "cell_type": "code",
      "source": [
        "#11. Imagine an accounting routine used in a book shop. It works on a list with sublists, which look like this:\n",
        "# order nmber     Book title and autor                   Quality        Price per item\n",
        "# 34587           learning python, mark lutz               4             40.95\n",
        "# 98762           programming python, mark lutz            5             56.80\n",
        "# 77226           Head first python, paul barry            3             32.95\n",
        "# 88112           Einfuhrung in python3, bernd klein       3             24.99\n",
        "# Write a Python program, which returns a list with 2-tuples. Each tuple consists of the order number and the\n",
        "# product of the price per item and the quantity. The product should be increased by 10,- € if the value of the\n",
        "# order is smaller than 100,00 €.\n",
        "\n",
        "# Write a Python program using lambda and map.\n",
        "\n",
        "orders = [\n",
        "    [\"34587\", \"Learning Python,mark lutz\", 4, 40.95],\n",
        "    [\"98762\", \"Programming python, mark lutz\", 3, 56.80],\n",
        "    [\"77226\", \" Head first python, paul barry\", 2, 32.95],\n",
        "    [\"88112\", \" Einfuhrung in python3, bernd klein\", 5, 24.99]\n",
        "]\n",
        "invoice = [(order[0], order[2] * order[3] if order[2] * order[3] >= 100 else order[2] * order[3] + 10)\n",
        "           for order in orders]\n",
        "\n",
        "print(invoice)"
      ],
      "metadata": {
        "colab": {
          "base_uri": "https://localhost:8080/"
        },
        "id": "ATjcWDG5ISqu",
        "outputId": "596c4ff1-c9a4-47a5-f6d7-708a74e427b5"
      },
      "execution_count": 11,
      "outputs": [
        {
          "output_type": "stream",
          "name": "stdout",
          "text": [
            "[('34587', 163.8), ('98762', 170.39999999999998), ('77226', 75.9), ('88112', 124.94999999999999)]\n"
          ]
        }
      ]
    }
  ]
}